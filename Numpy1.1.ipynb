{
 "cells": [
  {
   "cell_type": "code",
   "execution_count": 9,
   "id": "c2da2f1f-9287-474b-ba02-23ea979cb710",
   "metadata": {},
   "outputs": [],
   "source": [
    "import numpy as np"
   ]
  },
  {
   "cell_type": "markdown",
   "id": "796d8669-8d01-433d-b6a3-550ac499dd4f",
   "metadata": {},
   "source": [
    "List Vs numpy Process Time "
   ]
  },
  {
   "cell_type": "code",
   "execution_count": 4,
   "id": "b6431d9b-c503-46b4-ab2a-586c8255b761",
   "metadata": {},
   "outputs": [
    {
     "name": "stdout",
     "output_type": "stream",
     "text": [
      "0.421875\n"
     ]
    }
   ],
   "source": [
    "# importing process-time from time\n",
    "from time import process_time\n",
    "\n",
    "list = [i for i in range(10000000)]\n",
    "# Makes a list from 1 to 10000. i is the placeholder\n",
    "start_time = process_time()\n",
    "Nlist = [i+5 for i in list]\n",
    "end_time = process_time()\n",
    "print (end_time-start_time)"
   ]
  },
  {
   "cell_type": "code",
   "execution_count": 18,
   "id": "95953eb6-830b-4cd0-b8ef-f18f3316888e",
   "metadata": {},
   "outputs": [
    {
     "name": "stdout",
     "output_type": "stream",
     "text": [
      "The start time is 76.859375\n",
      "The end time is 76.9375\n",
      "0.078125\n"
     ]
    }
   ],
   "source": [
    "#Now using numpy array\n",
    "np_array = np.array([i for i in range(100000000)])\n",
    "start_time = process_time()\n",
    "print(\"The start time is \" + str(start_time))\n",
    "# print(\"The start time is\" + start_time)\n",
    "np_array+=5\n",
    "end_time = process_time()\n",
    "print(\"The end time is \" + str((end_time)))\n",
    "print (end_time - start_time)"
   ]
  },
  {
   "cell_type": "markdown",
   "id": "74c1a923-e706-414e-9d41-b54d3742d02f",
   "metadata": {},
   "source": [
    "Numpy array"
   ]
  },
  {
   "cell_type": "code",
   "execution_count": 2,
   "id": "bb3bc544-07e6-43a4-a763-b76a1fb35019",
   "metadata": {},
   "outputs": [
    {
     "name": "stdout",
     "output_type": "stream",
     "text": [
      "[1, 2, 3, 4, 5, 6, 7, 8, 9, 0]\n"
     ]
    },
    {
     "data": {
      "text/plain": [
       "list"
      ]
     },
     "execution_count": 2,
     "metadata": {},
     "output_type": "execute_result"
    }
   ],
   "source": [
    "list1 = [1,2,3,4,5,6,7,8,9,0]\n",
    "print (list1)\n",
    "type(list1) # returns the type. "
   ]
  },
  {
   "cell_type": "code",
   "execution_count": 22,
   "id": "c3f5e4c0-abb9-4822-8124-49dd0b575a71",
   "metadata": {},
   "outputs": [
    {
     "name": "stdout",
     "output_type": "stream",
     "text": [
      "[ 1  4  6 78 77  0]\n"
     ]
    },
    {
     "data": {
      "text/plain": [
       "numpy.ndarray"
      ]
     },
     "execution_count": 22,
     "metadata": {},
     "output_type": "execute_result"
    }
   ],
   "source": [
    "# Creating an array of numpy array\n",
    "Narray = np.array([1,4,6,78,77,0]) # using th numpy library to create an array called Narray\n",
    "print(Narray) # returns a 1d matrix\n",
    "type(Narray) # n- dimension array."
   ]
  },
  {
   "cell_type": "markdown",
   "id": "f9913082-d3e4-473e-a4ab-1c6122a55856",
   "metadata": {},
   "source": [
    "# Creating a 1 dimensional arrary\n",
    "a = np.array([1,4,7,9,4])\n",
    "print(a)"
   ]
  },
  {
   "cell_type": "code",
   "execution_count": 24,
   "id": "e4b32ef9-0091-419b-9f42-ad0867485e6f",
   "metadata": {},
   "outputs": [
    {
     "data": {
      "text/plain": [
       "(5,)"
      ]
     },
     "execution_count": 24,
     "metadata": {},
     "output_type": "execute_result"
    }
   ],
   "source": [
    "a.shape  # rXc     only 5"
   ]
  },
  {
   "cell_type": "code",
   "execution_count": 27,
   "id": "33353ce2-5cc3-4424-825c-31414e4e6e11",
   "metadata": {},
   "outputs": [
    {
     "name": "stdout",
     "output_type": "stream",
     "text": [
      "[[1 2 3 4 5]\n",
      " [6 7 8 9 0]]\n"
     ]
    },
    {
     "data": {
      "text/plain": [
       "(2, 5)"
      ]
     },
     "execution_count": 27,
     "metadata": {},
     "output_type": "execute_result"
    }
   ],
   "source": [
    "b = np.array([(1,2,3,4,5),(6,7,8,9,0)])\n",
    "print(b)\n",
    "b.shape #    2x5"
   ]
  },
  {
   "cell_type": "code",
   "execution_count": 29,
   "id": "235331aa-974d-431b-be2e-b522cc24aec1",
   "metadata": {},
   "outputs": [
    {
     "name": "stdout",
     "output_type": "stream",
     "text": [
      "[[1. 2. 3. 4. 5.]\n",
      " [6. 7. 8. 9. 0.]]\n"
     ]
    }
   ],
   "source": [
    "c = np.array([(1,2,3,4,5),(6,7,8,9,0)], dtype = float)\n",
    "print(c) # floating point values"
   ]
  },
  {
   "cell_type": "markdown",
   "id": "f19946f8-e3cc-4e49-8b32-6ab545c7aff9",
   "metadata": {},
   "source": [
    "Initial placeholders in numpy arrays"
   ]
  },
  {
   "cell_type": "code",
   "execution_count": 33,
   "id": "ca66a8d3-7fd1-4271-a4d1-e97e5eaac202",
   "metadata": {},
   "outputs": [
    {
     "name": "stdout",
     "output_type": "stream",
     "text": [
      "[[0. 0. 0. 0.]\n",
      " [0. 0. 0. 0.]\n",
      " [0. 0. 0. 0.]\n",
      " [0. 0. 0. 0.]]\n"
     ]
    }
   ],
   "source": [
    "# Create a numpy of Zeros\n",
    "d = np.zeros((4,4))\n",
    "print(d)"
   ]
  },
  {
   "cell_type": "code",
   "execution_count": 37,
   "id": "53fac5c1-3f75-4106-a2c9-ccd70f5fdd3e",
   "metadata": {},
   "outputs": [
    {
     "name": "stdout",
     "output_type": "stream",
     "text": [
      "[[5 5 5]\n",
      " [5 5 5]]\n"
     ]
    }
   ],
   "source": [
    "# Create a numpy of 5\n",
    "e = np.full((2,3),5)\n",
    "print(e)\n"
   ]
  },
  {
   "cell_type": "code",
   "execution_count": 38,
   "id": "275cb300-f1cb-42df-a2dc-3f3dcad4c08a",
   "metadata": {},
   "outputs": [
    {
     "name": "stdout",
     "output_type": "stream",
     "text": [
      "[[1. 0. 0. 0.]\n",
      " [0. 1. 0. 0.]\n",
      " [0. 0. 1. 0.]\n",
      " [0. 0. 0. 1.]]\n"
     ]
    }
   ],
   "source": [
    "# Create an identity matrix\n",
    "i = np.eye(4)   # identity matrix is nxn\n",
    "print(i)"
   ]
  },
  {
   "cell_type": "code",
   "execution_count": 39,
   "id": "606c4cc0-0259-46ba-8046-84d17fc00a31",
   "metadata": {},
   "outputs": [
    {
     "name": "stdout",
     "output_type": "stream",
     "text": [
      "[[0.75362846 0.18157299]\n",
      " [0.80064209 0.4706596 ]]\n"
     ]
    }
   ],
   "source": [
    "# Create a numpy array of random numbers\n",
    "r = np.random.random((2,2))\n",
    "print(r)"
   ]
  },
  {
   "cell_type": "code",
   "execution_count": 42,
   "id": "71957ad7-39c5-441f-8988-94b7ce49315f",
   "metadata": {},
   "outputs": [
    {
     "name": "stdout",
     "output_type": "stream",
     "text": [
      "[[63 91 17 54 68]\n",
      " [38 21 67 38 11]\n",
      " [66 34 44 98 62]\n",
      " [27 46 63 49 13]\n",
      " [12 42 60 48 55]]\n"
     ]
    }
   ],
   "source": [
    "#Create a numpy array of random integers\n",
    "ri = np.random.randint(1,100,(5,5)) # range is 1 to 100  5x5 matrix \n",
    "print(ri)"
   ]
  },
  {
   "cell_type": "code",
   "execution_count": 46,
   "id": "7ee58ea1-7fc5-4fe2-875c-e8362608df55",
   "metadata": {},
   "outputs": [
    {
     "name": "stdout",
     "output_type": "stream",
     "text": [
      "[ 0 10 20 30 40 50 60 70 80 90]\n"
     ]
    }
   ],
   "source": [
    "# Creating an array of evenly spaced numbers \n",
    "e = np.arange(0,100,10) # not inclusive of the last number \n",
    "print(e)"
   ]
  },
  {
   "cell_type": "code",
   "execution_count": 49,
   "id": "36363b77-9464-4775-97aa-7edaafe3e76f",
   "metadata": {},
   "outputs": [
    {
     "data": {
      "text/plain": [
       "numpy.ndarray"
      ]
     },
     "execution_count": 49,
     "metadata": {},
     "output_type": "execute_result"
    }
   ],
   "source": [
    "#Convert a normal list into numpy array\n",
    "x = [2,5,74,63,6,834,6]\n",
    "cL = np.asarray(x)\n",
    "type(cL) # numpy array of n dimension"
   ]
  },
  {
   "cell_type": "markdown",
   "id": "5cfb50bd-6169-407b-b7b8-ad134418e66a",
   "metadata": {},
   "source": [
    "Analysing a numpy array"
   ]
  },
  {
   "cell_type": "code",
   "execution_count": 50,
   "id": "3c8e080c-81f7-4153-b3e2-abb21dd573b3",
   "metadata": {},
   "outputs": [
    {
     "name": "stdout",
     "output_type": "stream",
     "text": [
      "7\n"
     ]
    }
   ],
   "source": [
    "# Checking the number of elements in the matrix \n",
    "print(cL.size)"
   ]
  },
  {
   "cell_type": "code",
   "execution_count": 51,
   "id": "0898bf17-e9d3-45e6-b2de-cdf02c694324",
   "metadata": {},
   "outputs": [
    {
     "name": "stdout",
     "output_type": "stream",
     "text": [
      "1\n"
     ]
    }
   ],
   "source": [
    "# no of dimension\n",
    "print(cL.ndim)"
   ]
  },
  {
   "cell_type": "markdown",
   "id": "29d936de-d9d1-4cc7-a74b-5e58482eb6ce",
   "metadata": {},
   "source": [
    "# If you add a list, it concatonates,\n",
    "# But if you add numpy list(Matrix) , it adds like matrix addition\n",
    "# the division, multiplication and subtraction is also same as traditional matrix operation."
   ]
  }
 ],
 "metadata": {
  "kernelspec": {
   "display_name": "Python 3 (ipykernel)",
   "language": "python",
   "name": "python3"
  },
  "language_info": {
   "codemirror_mode": {
    "name": "ipython",
    "version": 3
   },
   "file_extension": ".py",
   "mimetype": "text/x-python",
   "name": "python",
   "nbconvert_exporter": "python",
   "pygments_lexer": "ipython3",
   "version": "3.12.0"
  }
 },
 "nbformat": 4,
 "nbformat_minor": 5
}
