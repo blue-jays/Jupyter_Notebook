{
 "cells": [
  {
   "cell_type": "markdown",
   "id": "13cd214f-27bf-4b64-99f6-16283064e0d7",
   "metadata": {},
   "source": [
    "# This is the beginning of the numpy tutorial"
   ]
  },
  {
   "cell_type": "code",
   "execution_count": 1,
   "id": "df47e9ff-2e88-40c8-bb4e-fb6af4e5b0bf",
   "metadata": {},
   "outputs": [
    {
     "name": "stdout",
     "output_type": "stream",
     "text": [
      "Heghgllo World\n"
     ]
    }
   ],
   "source": [
    "print(\"Heghgllo World\")"
   ]
  },
  {
   "cell_type": "code",
   "execution_count": 2,
   "id": "c6c9c321-a560-4d0e-8b94-c97015adc6e6",
   "metadata": {},
   "outputs": [
    {
     "name": "stdout",
     "output_type": "stream",
     "text": [
      "Hello World\n",
      "Hello World\n",
      "Hello World\n",
      "Hello World\n",
      "Hello World\n",
      "Hello World\n",
      "Hello World\n",
      "Hello World\n",
      "Hello World\n",
      "Hello World\n",
      "Hello World\n",
      "Hello World\n",
      "Hello World\n",
      "Hello World\n",
      "Hello World\n",
      "Hello World\n",
      "Hello World\n",
      "Hello World\n",
      "Hello World\n",
      "Hello World\n"
     ]
    }
   ],
   "source": [
    "for i in range(20):\n",
    "    print(\"Hello World\")"
   ]
  },
  {
   "cell_type": "code",
   "execution_count": null,
   "id": "779b93dd-dd82-4e7c-90ec-81915fc4928f",
   "metadata": {},
   "outputs": [],
   "source": [
    "import pandas as pd"
   ]
  },
  {
   "cell_type": "code",
   "execution_count": 10,
   "id": "83540109-9789-4cab-9106-55b6405ca27a",
   "metadata": {},
   "outputs": [
    {
     "name": "stdout",
     "output_type": "stream",
     "text": [
      "Requirement already satisfied: numpy in d:\\anaconda editor\\envs\\ml\\lib\\site-packages (1.26.4)\n"
     ]
    }
   ],
   "source": [
    "!pip install numpy"
   ]
  },
  {
   "cell_type": "code",
   "execution_count": 13,
   "id": "801ef89e-8e08-4248-9d30-da3b464e7c44",
   "metadata": {},
   "outputs": [],
   "source": [
    "import numpy as np "
   ]
  },
  {
   "cell_type": "markdown",
   "id": "2a9deffc-e6a3-4670-b060-cb8734920d43",
   "metadata": {},
   "source": [
    "# This is how we print 2d arrays, 2 list inside the array."
   ]
  },
  {
   "cell_type": "code",
   "execution_count": 16,
   "id": "b26131f2-189b-4956-bf7c-39f927114c85",
   "metadata": {},
   "outputs": [
    {
     "name": "stdout",
     "output_type": "stream",
     "text": [
      "[[9 0 8 0 7 0]\n",
      " [6 0 5 0 4 0]]\n"
     ]
    }
   ],
   "source": [
    "b = np.array([[9,0,8,0,7,0],[6,0,5,0,4,0]])\n",
    "# 2d array--> an array inside an array.\n",
    "print(b)"
   ]
  },
  {
   "cell_type": "code",
   "execution_count": 19,
   "id": "85ed2028-8908-4a73-937e-d2b06aae9388",
   "metadata": {},
   "outputs": [
    {
     "data": {
      "text/plain": [
       "2"
      ]
     },
     "execution_count": 19,
     "metadata": {},
     "output_type": "execute_result"
    }
   ],
   "source": [
    "# get no of direction of the array b.\n",
    "b.ndim"
   ]
  },
  {
   "cell_type": "code",
   "execution_count": 20,
   "id": "0add0d08-c54c-4112-8be9-aabb100c75a3",
   "metadata": {},
   "outputs": [
    {
     "data": {
      "text/plain": [
       "(2, 6)"
      ]
     },
     "execution_count": 20,
     "metadata": {},
     "output_type": "execute_result"
    }
   ],
   "source": [
    "# get the shatpe of the array b\n",
    "b.shape"
   ]
  },
  {
   "cell_type": "code",
   "execution_count": 23,
   "id": "397e4723-3287-4931-922f-c0b80d1dbff5",
   "metadata": {},
   "outputs": [
    {
     "data": {
      "text/plain": [
       "dtype('int32')"
      ]
     },
     "execution_count": 23,
     "metadata": {},
     "output_type": "execute_result"
    }
   ],
   "source": [
    "# get the data type of the array\n",
    "b.dtype"
   ]
  },
  {
   "cell_type": "code",
   "execution_count": 26,
   "id": "029f1923-4886-4306-b679-e40dc7d2e9a2",
   "metadata": {},
   "outputs": [
    {
     "data": {
      "text/plain": [
       "4"
      ]
     },
     "execution_count": 26,
     "metadata": {},
     "output_type": "execute_result"
    }
   ],
   "source": [
    "# get size,  will return the size of each item in the array.\n",
    "b.itemsize"
   ]
  },
  {
   "cell_type": "code",
   "execution_count": 27,
   "id": "dce148dc-5225-49c2-a68e-54f61a50896e",
   "metadata": {},
   "outputs": [
    {
     "data": {
      "text/plain": [
       "12"
      ]
     },
     "execution_count": 27,
     "metadata": {},
     "output_type": "execute_result"
    }
   ],
   "source": [
    "b.size  # get the no of elements in the array."
   ]
  },
  {
   "cell_type": "code",
   "execution_count": 35,
   "id": "2ed3fe52-51ab-4d80-abda-b090c7ee5638",
   "metadata": {},
   "outputs": [
    {
     "name": "stdout",
     "output_type": "stream",
     "text": [
      "Method 1--> 48\n",
      "Method 1--> 48\n",
      "Method 2--> 48\n"
     ]
    }
   ],
   "source": [
    "# get the total size of the array, 2 ways\n",
    "print(\"Method 1-->\",b.size*b.itemsize)\n",
    "print(\"Method 1--> \" + str(b.size*b.itemsize))\n",
    "print(\"Method 2-->\",b.nbytes)"
   ]
  },
  {
   "cell_type": "markdown",
   "id": "c1a33239-9cba-44b3-9c21-4303bf49c9f5",
   "metadata": {},
   "source": [
    "Accessing or changing specific rows, columns, etc."
   ]
  },
  {
   "cell_type": "code",
   "execution_count": 39,
   "id": "5ce669f5-49e0-4d44-94af-a82450d93caf",
   "metadata": {},
   "outputs": [
    {
     "name": "stdout",
     "output_type": "stream",
     "text": [
      "[[ 1  2  3  4  5  6  7]\n",
      " [ 8  9 10 11 12 13 14]]\n"
     ]
    }
   ],
   "source": [
    "a = np.array([[1,2,3,4,5,6,7],[8,9,10,11,12,13,14]])\n",
    "# 2/7 array(R-2, C-7)\n",
    "print(a)"
   ]
  },
  {
   "cell_type": "code",
   "execution_count": 40,
   "id": "1c41cea1-a2bd-44b6-8a2a-f7f5b42ef4fb",
   "metadata": {},
   "outputs": [
    {
     "data": {
      "text/plain": [
       "(2, 7)"
      ]
     },
     "execution_count": 40,
     "metadata": {},
     "output_type": "execute_result"
    }
   ],
   "source": [
    "a.shape"
   ]
  },
  {
   "cell_type": "code",
   "execution_count": 47,
   "id": "5d076ec0-4e54-41dc-8ed3-621a9eb77561",
   "metadata": {},
   "outputs": [
    {
     "data": {
      "text/plain": [
       "7"
      ]
     },
     "execution_count": 47,
     "metadata": {},
     "output_type": "execute_result"
    }
   ],
   "source": [
    "# Get a specific element----> array[r,c],  indexing, counting starts from 0.\n",
    "# first row, 7th element.\n",
    "a[0, 6]\n"
   ]
  },
  {
   "cell_type": "code",
   "execution_count": 49,
   "id": "c7e35693-01e4-46b9-be28-714908fa9da5",
   "metadata": {},
   "outputs": [
    {
     "data": {
      "text/plain": [
       "array([1, 2, 3, 4, 5, 6, 7])"
      ]
     },
     "execution_count": 49,
     "metadata": {},
     "output_type": "execute_result"
    }
   ],
   "source": [
    "#Get the whole row\n",
    "a[0, :] # get the first row."
   ]
  },
  {
   "cell_type": "code",
   "execution_count": 50,
   "id": "3c7541ab-0169-4420-975f-510b78678e72",
   "metadata": {},
   "outputs": [
    {
     "data": {
      "text/plain": [
       "array([ 3, 10])"
      ]
     },
     "execution_count": 50,
     "metadata": {},
     "output_type": "execute_result"
    }
   ],
   "source": [
    "# Gettin the 3rd column\n",
    "a[:, 2] # Get all of 3rd column"
   ]
  },
  {
   "cell_type": "code",
   "execution_count": 60,
   "id": "9203a820-317b-4af9-8b6c-371574132002",
   "metadata": {},
   "outputs": [
    {
     "data": {
      "text/plain": [
       "array([[ 1,  3,  5,  7],\n",
       "       [ 8, 10, 12, 14]])"
      ]
     },
     "execution_count": 60,
     "metadata": {},
     "output_type": "execute_result"
    }
   ],
   "source": [
    "# Jump sequentially [startIndex:endindex:stepsize]\n",
    "# it is 2d array, so index is 2d.\n",
    "# the end is exclusive.\n",
    "# [r:c:stepsize]\n",
    "# [1st to 2nd row: 1st to 7 column: step size 2]\n",
    "\n",
    "a[0:2, 0:7:2]\n",
    "\n"
   ]
  },
  {
   "cell_type": "code",
   "execution_count": 62,
   "id": "809c0c60-333f-4282-8d61-5421048f62f7",
   "metadata": {},
   "outputs": [
    {
     "name": "stdout",
     "output_type": "stream",
     "text": [
      "[[ 1  2  3  4  5  6  7]\n",
      " [ 8  9 10 11 12 20 14]]\n"
     ]
    }
   ],
   "source": [
    "# change specific element in the array.\n",
    "a[1,5] = 20; # 2nd row, 6th column\n",
    "print(a)"
   ]
  },
  {
   "cell_type": "markdown",
   "id": "4b9b3265-d405-48c6-af05-87687c53674b",
   "metadata": {},
   "source": [
    "# 3d array"
   ]
  },
  {
   "cell_type": "code",
   "execution_count": 66,
   "id": "4d85326a-0fcf-4026-8af1-8d555cff0039",
   "metadata": {},
   "outputs": [
    {
     "name": "stdout",
     "output_type": "stream",
     "text": [
      "[[[ 1  2]\n",
      "  [ 3  5]]\n",
      "\n",
      " [[ 1 35]\n",
      "  [ 3 37]]]\n"
     ]
    }
   ],
   "source": [
    "d = np.array([[[1,2],[3,5]],[[1,35],[3,37]]])\n",
    "# 3d array, an array inside an array inside an array.\n",
    "print(d)"
   ]
  },
  {
   "cell_type": "code",
   "execution_count": 67,
   "id": "c4906d2b-4a37-4ac2-9219-834dc08b691e",
   "metadata": {},
   "outputs": [
    {
     "data": {
      "text/plain": [
       "3"
      ]
     },
     "execution_count": 67,
     "metadata": {},
     "output_type": "execute_result"
    }
   ],
   "source": [
    "d.ndim"
   ]
  },
  {
   "cell_type": "code",
   "execution_count": 69,
   "id": "3f4ec297-32b6-4217-ac16-a8a28e35f3e4",
   "metadata": {},
   "outputs": [
    {
     "data": {
      "text/plain": [
       "(2, 2, 2)"
      ]
     },
     "execution_count": 69,
     "metadata": {},
     "output_type": "execute_result"
    }
   ],
   "source": [
    "d.shape"
   ]
  },
  {
   "cell_type": "code",
   "execution_count": 70,
   "id": "f0d3976f-b6c4-4b76-bc7d-2b00f9d6ef16",
   "metadata": {},
   "outputs": [],
   "source": [
    "three_d_array = np.array([[[1, 2, 3, 4],\n",
    "                            [5, 6, 7, 8],\n",
    "                            [9, 10, 11, 12]],\n",
    "                           [[13, 14, 15, 16],\n",
    "                            [17, 18, 19, 20],\n",
    "                            [21, 22, 23, 24]]])"
   ]
  },
  {
   "cell_type": "code",
   "execution_count": 71,
   "id": "415bb320-fd6d-4e18-8403-e57d108f831b",
   "metadata": {},
   "outputs": [
    {
     "data": {
      "text/plain": [
       "(2, 3, 4)"
      ]
     },
     "execution_count": 71,
     "metadata": {},
     "output_type": "execute_result"
    }
   ],
   "source": [
    "three_d_array.shape"
   ]
  },
  {
   "cell_type": "markdown",
   "id": "1dbf71df-3079-419a-bfa8-80fdb18b2dd0",
   "metadata": {},
   "source": [
    "This means 2 (3X4) matrix."
   ]
  },
  {
   "cell_type": "markdown",
   "id": "68ec8cd5-235b-4557-8bf7-aa842f7a0741",
   "metadata": {},
   "source": [
    "Usefull matrix creation stuff"
   ]
  },
  {
   "cell_type": "code",
   "execution_count": 74,
   "id": "5c63751a-4e93-4b46-8f73-f64c113746ca",
   "metadata": {},
   "outputs": [
    {
     "data": {
      "text/plain": [
       "array([[1, 1],\n",
       "       [1, 1]])"
      ]
     },
     "execution_count": 74,
     "metadata": {},
     "output_type": "execute_result"
    }
   ],
   "source": [
    "np.ones((2,2), dtype='int32') \n",
    "# 1 2X2 matrix filled with one"
   ]
  },
  {
   "cell_type": "code",
   "execution_count": 76,
   "id": "929c32f1-f02c-45cb-b817-14473e9b2a19",
   "metadata": {},
   "outputs": [
    {
     "data": {
      "text/plain": [
       "array([[[99, 99, 99],\n",
       "        [99, 99, 99]],\n",
       "\n",
       "       [[99, 99, 99],\n",
       "        [99, 99, 99]]])"
      ]
     },
     "execution_count": 76,
     "metadata": {},
     "output_type": "execute_result"
    }
   ],
   "source": [
    "np.full((2,2,3), 99)\n",
    "# this syntax is different from previous one."
   ]
  },
  {
   "cell_type": "code",
   "execution_count": 77,
   "id": "46170844-84fc-439c-b2db-9063aa59b88a",
   "metadata": {},
   "outputs": [
    {
     "data": {
      "text/plain": [
       "array([[0.28923804, 0.97678069, 0.56375867, 0.87690267],\n",
       "       [0.05406939, 0.60889072, 0.36369516, 0.32538726],\n",
       "       [0.45330931, 0.5703794 , 0.78010997, 0.79598015]])"
      ]
     },
     "execution_count": 77,
     "metadata": {},
     "output_type": "execute_result"
    }
   ],
   "source": [
    "# Initialise an array of random numbers\n",
    "np.random.rand(3,4)"
   ]
  },
  {
   "cell_type": "code",
   "execution_count": null,
   "id": "4d248225-feed-4fe3-b50a-b14ee814707e",
   "metadata": {},
   "outputs": [],
   "source": []
  }
 ],
 "metadata": {
  "kernelspec": {
   "display_name": "Python 3 (ipykernel)",
   "language": "python",
   "name": "python3"
  },
  "language_info": {
   "codemirror_mode": {
    "name": "ipython",
    "version": 3
   },
   "file_extension": ".py",
   "mimetype": "text/x-python",
   "name": "python",
   "nbconvert_exporter": "python",
   "pygments_lexer": "ipython3",
   "version": "3.11.7"
  }
 },
 "nbformat": 4,
 "nbformat_minor": 5
}
